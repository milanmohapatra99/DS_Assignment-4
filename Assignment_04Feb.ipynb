{
 "cells": [
  {
   "cell_type": "markdown",
   "id": "304ae3ed-789b-4547-85cb-9ad1120a47c3",
   "metadata": {},
   "source": [
    "Q.1 Create a python program to sort the given list of tuple based on integer value using a lambda function.\n",
    "[('sachin Tendulkar',34357),('Ricky Ponting',27483),('Jack Kallis',25534),('virat kohli',24936)]"
   ]
  },
  {
   "cell_type": "code",
   "execution_count": 1,
   "id": "414b0ae9-3c15-4e8c-b7f2-5db6c2c20fd1",
   "metadata": {},
   "outputs": [
    {
     "name": "stdout",
     "output_type": "stream",
     "text": [
      "Before sorting tuples :- \n",
      "[('sachin Tendulkar', 34357), ('Ricky Ponting', 27483), ('Jack Kallis', 25534), ('virat kohli', 24936)]\n",
      "Sorting the List of Tuples are :\n",
      "[('virat kohli', 24936), ('Jack Kallis', 25534), ('Ricky Ponting', 27483), ('sachin Tendulkar', 34357)]\n"
     ]
    }
   ],
   "source": [
    "players = [('sachin Tendulkar',34357),('Ricky Ponting',27483),('Jack Kallis',25534),('virat kohli',24936)]\n",
    "print(\"Before sorting tuples :- \")\n",
    "print(players)\n",
    "players.sort(key = lambda p : p[1])\n",
    "print(\"Sorting the List of Tuples are :\")\n",
    "print(players)"
   ]
  },
  {
   "cell_type": "markdown",
   "id": "2bcdbb58-5039-4738-9887-b84e57fb4a67",
   "metadata": {},
   "source": [
    "Q.2. Write a python program to find the squares of all the numbers in the given list of integers using lambda and map functions.\n",
    "[1,2,3,4,5,6,7,8,9,10]"
   ]
  },
  {
   "cell_type": "code",
   "execution_count": 2,
   "id": "81f0ec15-d5dd-4769-b088-a4422e2c01e1",
   "metadata": {},
   "outputs": [
    {
     "name": "stdout",
     "output_type": "stream",
     "text": [
      "Given list of integers:- \n",
      "[1, 2, 3, 4, 5, 6, 7, 8, 9, 10]\n",
      "Square every number of the given list:- \n",
      "[1, 4, 9, 16, 25, 36, 49, 64, 81, 100]\n"
     ]
    }
   ],
   "source": [
    "# Given List\n",
    "nos = [1, 2, 3, 4, 5, 6, 7, 8, 9, 10]\n",
    "\n",
    "#printing original List\n",
    "print(\"Given list of integers:- \")\n",
    "print(nos)\n",
    "\n",
    "#squaring integers of given list\n",
    "print(\"Square every number of the given list:- \")\n",
    "sqre_nos = list(map(lambda n : n ** 2, nos))\n",
    "\n",
    "#displaying list after Square\n",
    "print(sqre_nos)"
   ]
  },
  {
   "cell_type": "markdown",
   "id": "76d45738-8f24-4987-8a42-a29e7644f291",
   "metadata": {},
   "source": [
    "Q.3 Write a python program to convert the given list of integers into a tuple of strings.Use map and lambda functions.\n",
    "\n",
    "Given String :-[1, 2, 3, 4, 5, 6, 7, 8, 9, 10]\n",
    "\n",
    "Expected Output :('1', '2', '3', '4', '5', '6', '7', '8', '9', '10')"
   ]
  },
  {
   "cell_type": "code",
   "execution_count": 3,
   "id": "37a8abd1-51e7-443c-a99f-618e0a2e4ffc",
   "metadata": {},
   "outputs": [
    {
     "name": "stdout",
     "output_type": "stream",
     "text": [
      "Given List:- [1, 2, 3, 4, 5, 6, 7, 8, 9, 10]\n",
      "Output :- \n",
      "('1', '2', '3', '4', '5', '6', '7', '8', '9', '10')\n"
     ]
    }
   ],
   "source": [
    "l = [1, 2, 3, 4, 5, 6, 7, 8, 9, 10]\n",
    "print(\"Given List:-\",l)\n",
    "print(\"Output :- \")\n",
    "print(tuple(map(lambda x: str(x),l)))"
   ]
  },
  {
   "cell_type": "markdown",
   "id": "22b172e0-87f4-4d89-86c4-fd3ba6295bd2",
   "metadata": {},
   "source": [
    "Q 4. Write a python program using reduce function to compute the product of a list containing numbers from 1 to 25."
   ]
  },
  {
   "cell_type": "code",
   "execution_count": 4,
   "id": "a19275b7-60ff-4e10-a70b-b07d9af5bbbe",
   "metadata": {},
   "outputs": [
    {
     "name": "stdout",
     "output_type": "stream",
     "text": [
      "15511210043330985984000000\n"
     ]
    }
   ],
   "source": [
    "# importing reduce() from functools  \n",
    "from functools import reduce\n",
    "\n",
    "# input List For calculating Product\n",
    "l1 = [1, 2, 3, 4, 5, 6, 7, 8, 9, 10, 11, 12, 13, 14, 15, 16, 17, 18, 19, 20, 21, 22, 23, 24, 25]\n",
    "\n",
    "#calculating product by using reduce()\n",
    "print(reduce(lambda x, y: x*y,  l1))\n"
   ]
  },
  {
   "cell_type": "markdown",
   "id": "7db051c5-2a0c-4088-813b-21e64c25bc7f",
   "metadata": {},
   "source": [
    "Q.5 Write a python program to filter the numbers in a given list that are divisible by 2 and 3 using the filter function.\n",
    "\n",
    "[2, 3, 6, 9, 27, 60, 90, 120, 55, 46]"
   ]
  },
  {
   "cell_type": "code",
   "execution_count": 5,
   "id": "8a04e27c-8edd-4015-9686-256359b1436c",
   "metadata": {},
   "outputs": [
    {
     "name": "stdout",
     "output_type": "stream",
     "text": [
      "[6, 60, 90, 120]\n"
     ]
    }
   ],
   "source": [
    "#Given List\n",
    "l2 = [2, 3, 6, 9, 27, 60, 90, 120, 55, 46]\n",
    "#checking  nos in list are divisible by 2 and 3 \n",
    "# displaying the list by using filter()\n",
    "print(list(filter(lambda x: x%2==0 and x%3==0, l2)))"
   ]
  },
  {
   "cell_type": "markdown",
   "id": "16a252da-42f4-417a-ac2d-ee23d8f67325",
   "metadata": {},
   "source": [
    "Q6. Write a python program to find palindromes in the given list of strings using lambda and filter function.\n",
    "\n",
    "['python', 'php', 'aba', 'radar', 'level']"
   ]
  },
  {
   "cell_type": "code",
   "execution_count": 6,
   "id": "31704368-acda-491a-9797-0a745a2f738a",
   "metadata": {},
   "outputs": [
    {
     "name": "stdout",
     "output_type": "stream",
     "text": [
      "['php', 'aba', 'radar', 'level']\n"
     ]
    }
   ],
   "source": [
    "#inputing Given List of Strings\n",
    "l3 = ['python', 'php', 'aba', 'radar', 'level']\n",
    "#calculating palindroms and displaying it.\n",
    "print(list(filter(lambda s: s==s[::-1], l3)))"
   ]
  },
  {
   "cell_type": "code",
   "execution_count": null,
   "id": "2c1f2a2e-052e-4314-91f3-2ff67eb4e942",
   "metadata": {},
   "outputs": [],
   "source": []
  }
 ],
 "metadata": {
  "kernelspec": {
   "display_name": "Python 3 (ipykernel)",
   "language": "python",
   "name": "python3"
  },
  "language_info": {
   "codemirror_mode": {
    "name": "ipython",
    "version": 3
   },
   "file_extension": ".py",
   "mimetype": "text/x-python",
   "name": "python",
   "nbconvert_exporter": "python",
   "pygments_lexer": "ipython3",
   "version": "3.10.6"
  }
 },
 "nbformat": 4,
 "nbformat_minor": 5
}
